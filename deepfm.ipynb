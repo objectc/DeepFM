{
 "nbformat": 4,
 "nbformat_minor": 2,
 "metadata": {
  "language_info": {
   "name": "python",
   "codemirror_mode": {
    "name": "ipython",
    "version": 3
   },
   "version": "3.6.8-final"
  },
  "orig_nbformat": 2,
  "file_extension": ".py",
  "mimetype": "text/x-python",
  "name": "python",
  "npconvert_exporter": "python",
  "pygments_lexer": "ipython3",
  "version": 3,
  "kernelspec": {
   "name": "scale",
   "display_name": "scale"
  }
 },
 "cells": [
  {
   "cell_type": "code",
   "execution_count": null,
   "metadata": {},
   "outputs": [],
   "source": [
    "import tensorflow as tf\n",
    "from tensorflow import keras\n",
    "from tensorflow.keras.layers import Dense, Concatenate, Lambda, Add, Dot, Activation, Layer"
   ]
  },
  {
   "cell_type": "code",
   "execution_count": null,
   "metadata": {},
   "outputs": [],
   "source": [
    "from utils.conf_process import myconfigparser\n",
    "from utils.feature_process import tuple_feature_process\n",
    "from utils.active_method import activate\n",
    "from utils.optimizer_method import get_optimizer\n",
    "from utils.distribut_conf import set_dist_env"
   ]
  },
  {
   "cell_type": "code",
   "execution_count": null,
   "metadata": {},
   "outputs": [],
   "source": [
    "def build_model_columns(conf_path):\n",
    "\n",
    "    deep_columns = list()\n",
    "    default_dict = {}\n",
    "    embedding_nums = 0\n",
    "\n",
    "    cfg = myconfigparser()\n",
    "    cfg.read(conf_path)\n",
    "    sections = cfg.sections()\n",
    "\n",
    "    for part_key in sections:\n",
    "\n",
    "        items_lst = cfg.items(part_key)\n",
    "\n",
    "        if part_key == \"deep\":\n",
    "            for items in items_lst:\n",
    "                feature_name = items[0].strip()\n",
    "                feat_method,default_val,embedding_num = tuple_feature_process(items,int(FLAGS.embedding_size))\n",
    "                embedding_nums += embedding_num\n",
    "                if feature_name not in default_dict:\n",
    "                    default_dict[feature_name] = default_val\n",
    "                deep_columns.append(feat_method)\n",
    "\n",
    "    columns = cfg.items(\"use\")[0][1].strip().split(\",\")\n",
    "    default_dict[\"label\"] = 0\n",
    "    cols_default = list(map(lambda x:[\"-1\"] if x not in default_dict else [default_dict[x]], columns))\n",
    "    return deep_columns, columns, cols_default,embedding_nums\n"
   ]
  },
  {
   "cell_type": "code",
   "execution_count": null,
   "metadata": {},
   "outputs": [],
   "source": [
    "fixlen_feature_columns = [DenseFeat(feat, 1,) for feat in dense_features] \\\n",
    "                       + [SparseFeat(feat, data[feat].nunique()) for feat in sparse_features\n",
    "                             if data[feat].nunique() < 10000] \\\n",
    "\n",
    "dnn_feature_columns = fixlen_feature_columns\n",
    "linear_feature_columns = fixlen_feature_columns\n",
    "\n",
    "fixlen_feature_names = get_fixlen_feature_names(\n",
    "    linear_feature_columns + dnn_feature_columns)"
   ]
  },
  {
   "cell_type": "code",
   "execution_count": null,
   "metadata": {},
   "outputs": [],
   "source": [
    "class FM(tf.keras.layers.Layer):\n",
    "    \"\"\"Factorization Machine models pairwise (order-2) feature interactions\n",
    "     without linear term and bias.\n",
    "      Input shape\n",
    "        - 3D tensor with shape: ``(batch_size,field_size,embedding_size)``.\n",
    "      Output shape\n",
    "        - 2D tensor with shape: ``(batch_size, 1)``.\n",
    "    \"\"\"\n",
    "\n",
    "    def __init__(self):\n",
    "        super(FM, self).__init__()\n",
    "\n",
    "    def call(self, input):\n",
    "        square_of_sum = tf.math.pow(tf.math.reduce_sum(input, 1, keepdims=True), 2)\n",
    "        sum_of_square = tf.math.reduce_sum(input * input, 1, keepdims=True)\n",
    "        cross_term = square_of_sum - sum_of_square\n",
    "        cross_term = 0.5 * tf.math.reduce_sum(cross_term, axis=2, keepdims=False)\n",
    "\n",
    "        return tf.squeeze(cross_term, -1)\n"
   ]
  },
  {
   "cell_type": "code",
   "execution_count": null,
   "metadata": {},
   "outputs": [],
   "source": []
  }
 ]
}